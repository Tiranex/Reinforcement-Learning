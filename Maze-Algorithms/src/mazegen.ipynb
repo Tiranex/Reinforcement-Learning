{
 "cells": [
  {
   "cell_type": "code",
   "execution_count": null,
   "metadata": {},
   "outputs": [],
   "source": [
    "import numpy as np\n",
    "import random \n",
    "import cv2"
   ]
  },
  {
   "cell_type": "markdown",
   "metadata": {},
   "source": [
    "https://www.migapro.com/depth-first-search/"
   ]
  },
  {
   "cell_type": "code",
   "execution_count": 62,
   "metadata": {},
   "outputs": [],
   "source": [
    "#Commons\n",
    "def render_maze(maze_array: np.array, cell_size: int=20):\n",
    "    # Define colors\n",
    "    wall_color = (0, 0, 0)  # Black for walls\n",
    "    open_color = (255, 255, 255)  # White for open cells\n",
    "    player_color = (0, 255, 0)  # Green for player position\n",
    "    goal_color = (255, 0, 0)  # Red for goal position\n",
    "\n",
    "    # Get maze dimensions\n",
    "    width=maze_array.shape[1]\n",
    "    height=maze_array.shape[0]\n",
    "\n",
    "    # Cv2 handles the height and width the opposite way\n",
    "    maze_image=np.ones((cell_size*height, cell_size*width,3))\n",
    "    \n",
    "    print((cell_size*height, cell_size*width,3))\n",
    "    # Draw maze cells\n",
    "    for j in range(height):\n",
    "        for i in range(width):\n",
    "            x, y = i * cell_size, j * cell_size\n",
    "            if maze_array[j,i] == \"0\":\n",
    "                # Open cell\n",
    "                maze_image[y:y + cell_size, x:x + cell_size] = open_color\n",
    "            elif maze_array[j,i] == \"W\":\n",
    "                # Wall\n",
    "                maze_image[y:y + cell_size, x:x + cell_size] = wall_color\n",
    "            elif maze_array[j,i] == \"*\":\n",
    "                # Player position\n",
    "                maze_image[y:y + cell_size, x:x + cell_size] = player_color\n",
    "            elif maze_array[j,i] == \"G\":\n",
    "                maze_image[y:y + cell_size, x:x + cell_size] = goal_color\n",
    "\n",
    "    return maze_image"
   ]
  },
  {
   "cell_type": "code",
   "execution_count": null,
   "metadata": {},
   "outputs": [],
   "source": [
    "def create_maze(size_x: int, size_y:int, start_point: tuple=(0,0)):\n",
    "    \n",
    "    maze=np.full((size_x,size_y), \"W\")\n",
    "    \n",
    "    # up right down left\n",
    "    directions=[(-1,0), (0,1), (1,0), (0,-1)]\n",
    "\n",
    "    maze[start_point]=\"0\"\n",
    "    stack=[start_point]\n",
    "\n",
    "    while len(stack) > 0:\n",
    "        # Get current node\n",
    "        x,y = stack[-1]\n",
    "\n",
    "        # Shuffle neighbour to explore\n",
    "        random.shuffle(directions)\n",
    "\n",
    "        # Start exploring\n",
    "        for dx,dy in directions:\n",
    "            # Do the displacement\n",
    "            nx, ny = x+2*dx, y+2*dy\n",
    "    \n",
    "            # Check for nx and ny inside bounds and if there is wall on next move\n",
    "            if nx >= 0 and ny >= 0 and nx < size_x and ny < size_y and maze[nx,ny]==\"W\":\n",
    "                maze[nx,ny]=\"0\"\n",
    "                maze[x+dx,y+dy]=\"0\"\n",
    "                stack.append((nx,ny))\n",
    "                movement_done=True\n",
    "                break\n",
    "            movement_done=False\n",
    "        \n",
    "        if not movement_done:\n",
    "            stack.pop()\n",
    "\n",
    "    return maze\n",
    "        \n",
    "    "
   ]
  },
  {
   "cell_type": "code",
   "execution_count": null,
   "metadata": {},
   "outputs": [],
   "source": [
    "def random_goal(maze: np.array, start_point: tuple=(0,0)):\n",
    "    empty_indices = np.where(maze == '0')\n",
    "    valid_indices = [(i, j) for i, j in zip(empty_indices[0], empty_indices[1]) if (i, j) != start_point]\n",
    "    random_index = np.random.choice(len(valid_indices))\n",
    "    row, col = valid_indices[random_index]\n",
    "    maze[row, col] = 'G'\n",
    "    return maze, (row, col)"
   ]
  },
  {
   "cell_type": "code",
   "execution_count": 64,
   "metadata": {},
   "outputs": [],
   "source": [
    "maze=create_maze(5,11,(0,0))"
   ]
  },
  {
   "cell_type": "code",
   "execution_count": 67,
   "metadata": {},
   "outputs": [
    {
     "data": {
      "text/plain": [
       "array([['0', 'W', '0', '0', '0', 'W', '0', '0', '0', '0', '0'],\n",
       "       ['0', 'W', 'W', 'W', '0', 'W', '0', 'W', 'W', 'W', '0'],\n",
       "       ['0', '0', '0', 'W', '0', '0', '0', 'W', '0', '0', '0'],\n",
       "       ['W', 'W', '0', 'W', 'W', 'W', 'W', 'W', '0', 'W', '0'],\n",
       "       ['0', '0', '0', '0', '0', '0', '0', '0', '0', 'W', '0']],\n",
       "      dtype='<U1')"
      ]
     },
     "execution_count": 67,
     "metadata": {},
     "output_type": "execute_result"
    }
   ],
   "source": [
    "maze"
   ]
  },
  {
   "cell_type": "code",
   "execution_count": 68,
   "metadata": {},
   "outputs": [
    {
     "name": "stdout",
     "output_type": "stream",
     "text": [
      "(150, 330, 3)\n"
     ]
    },
    {
     "data": {
      "text/plain": [
       "-1"
      ]
     },
     "execution_count": 68,
     "metadata": {},
     "output_type": "execute_result"
    }
   ],
   "source": [
    "cv2.imshow(\"Game\",render_maze(maze, cell_size=30))\n",
    "cv2.waitKey(0)"
   ]
  },
  {
   "cell_type": "code",
   "execution_count": null,
   "metadata": {},
   "outputs": [],
   "source": [
    "random_goal(maze)"
   ]
  },
  {
   "cell_type": "code",
   "execution_count": null,
   "metadata": {},
   "outputs": [],
   "source": [
    "random_index=np.random.choice(len(empty_indices[0]))\n",
    "row, col = empty_indices[0][random_index], empty_indices[1][random_index]"
   ]
  },
  {
   "cell_type": "code",
   "execution_count": null,
   "metadata": {},
   "outputs": [],
   "source": [
    "col"
   ]
  },
  {
   "cell_type": "code",
   "execution_count": null,
   "metadata": {},
   "outputs": [],
   "source": [
    "\n"
   ]
  }
 ],
 "metadata": {
  "kernelspec": {
   "display_name": ".venv",
   "language": "python",
   "name": "python3"
  },
  "language_info": {
   "codemirror_mode": {
    "name": "ipython",
    "version": 3
   },
   "file_extension": ".py",
   "mimetype": "text/x-python",
   "name": "python",
   "nbconvert_exporter": "python",
   "pygments_lexer": "ipython3",
   "version": "3.9.0"
  }
 },
 "nbformat": 4,
 "nbformat_minor": 2
}
