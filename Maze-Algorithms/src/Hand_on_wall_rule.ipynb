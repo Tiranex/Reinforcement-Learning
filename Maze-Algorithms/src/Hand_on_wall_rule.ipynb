{
 "cells": [
  {
   "cell_type": "code",
   "execution_count": 2,
   "metadata": {},
   "outputs": [],
   "source": [
    "import numpy as np\n",
    "import cv2"
   ]
  },
  {
   "cell_type": "code",
   "execution_count": 3,
   "metadata": {},
   "outputs": [],
   "source": []
  },
  {
   "cell_type": "code",
   "execution_count": 6,
   "metadata": {},
   "outputs": [],
   "source": [
    "class Hand_on_wall_rule():\n",
    "    \n",
    "    def __init__(self, maze, preview=False):\n",
    "        self.maze = maze\n",
    "        self.preview = preview\n",
    "\n",
    "    # Solve the maze\n",
    "    def solve(self):\n",
    "        agent=np.array([1,0])\n",
    "        # 0=up, 1=right, 2=down, 3=left\n",
    "        moves=np.array([[0,-1],[1,0],[0,1],[-1,0]])\n",
    "        # Move down will be the next move\n",
    "        next_move=2\n",
    "        opp_move=0\n",
    "\n",
    "        while(self.maze[tuple(agent[::-1])]!='G'):\n",
    "            # If player goes into a wall select next move\n",
    "            while not self.is_valid(agent, moves[next_move]) or opp_move == next_move:\n",
    "                next_move=(next_move+1)%4\n",
    "\n",
    "            self.maze[tuple(agent[::-1])]='*'\n",
    "\n",
    "            agent+=moves[next_move]\n",
    "            opp_move=(next_move+2)%4\n",
    "\n",
    "            \n",
    "            \n",
    "            # Check render conditions\n",
    "            if self.preview:\n",
    "                self.render()\n",
    "        \n",
    "        return self.maze\n",
    "\n",
    "    def is_valid(self, agent, move):\n",
    "        if self.maze[tuple(agent + move)[::-1]] == 'W':\n",
    "            return False\n",
    "        else:\n",
    "            return True\n",
    "\n",
    "    def render(self):\n",
    "        cv2.imshow(\"Game\",render_maze(self.maze))\n",
    "        cv2.waitKey(0)"
   ]
  },
  {
   "cell_type": "code",
   "execution_count": 7,
   "metadata": {},
   "outputs": [
    {
     "name": "stdout",
     "output_type": "stream",
     "text": [
      "[['W' '*' 'W' 'W']\n",
      " ['W' 'X' 'W' 'W']\n",
      " ['W' 'X' 'W' 'W']\n",
      " ['W' 'X' 'X' 'W']\n",
      " ['W' 'W' 'X' 'W']\n",
      " ['W' 'W' 'G' 'W']]\n",
      "[['W' '*' 'W' 'W']\n",
      " ['W' '*' 'W' 'W']\n",
      " ['W' 'X' 'W' 'W']\n",
      " ['W' 'X' 'X' 'W']\n",
      " ['W' 'W' 'X' 'W']\n",
      " ['W' 'W' 'G' 'W']]\n",
      "[['W' '*' 'W' 'W']\n",
      " ['W' '*' 'W' 'W']\n",
      " ['W' '*' 'W' 'W']\n",
      " ['W' 'X' 'X' 'W']\n",
      " ['W' 'W' 'X' 'W']\n",
      " ['W' 'W' 'G' 'W']]\n",
      "[['W' '*' 'W' 'W']\n",
      " ['W' '*' 'W' 'W']\n",
      " ['W' '*' 'W' 'W']\n",
      " ['W' '*' 'X' 'W']\n",
      " ['W' 'W' 'X' 'W']\n",
      " ['W' 'W' 'G' 'W']]\n",
      "[['W' '*' 'W' 'W']\n",
      " ['W' '*' 'W' 'W']\n",
      " ['W' '*' 'W' 'W']\n",
      " ['W' '*' '*' 'W']\n",
      " ['W' 'W' 'X' 'W']\n",
      " ['W' 'W' 'G' 'W']]\n",
      "[['W' '*' 'W' 'W']\n",
      " ['W' '*' 'W' 'W']\n",
      " ['W' '*' 'W' 'W']\n",
      " ['W' '*' '*' 'W']\n",
      " ['W' 'W' '*' 'W']\n",
      " ['W' 'W' 'G' 'W']]\n"
     ]
    },
    {
     "data": {
      "text/plain": [
       "array([['W', '*', 'W', 'W'],\n",
       "       ['W', '*', 'W', 'W'],\n",
       "       ['W', '*', 'W', 'W'],\n",
       "       ['W', '*', '*', 'W'],\n",
       "       ['W', 'W', '*', 'W'],\n",
       "       ['W', 'W', 'G', 'W']], dtype='<U1')"
      ]
     },
     "execution_count": 7,
     "metadata": {},
     "output_type": "execute_result"
    }
   ],
   "source": [
    "maze=np.array([  [\"W\",\"X\", \"W\", \"W\"],\n",
    "        [\"W\", \"X\", \"W\", \"W\"],\n",
    "        [\"W\", \"X\", \"W\", \"W\"],\n",
    "        [\"W\", \"X\", \"X\", \"W\"],\n",
    "        [\"W\", \"W\", \"X\", \"W\"],\n",
    "        [\"W\", \"W\", \"G\", \"W\"]])\n",
    "Hand_on_wall_rule(maze, preview=True).solve()"
   ]
  },
  {
   "cell_type": "code",
   "execution_count": 17,
   "metadata": {},
   "outputs": [
    {
     "data": {
      "text/plain": [
       "'X'"
      ]
     },
     "execution_count": 17,
     "metadata": {},
     "output_type": "execute_result"
    }
   ],
   "source": [
    "maze=np.array([  [\"W\",\"X\", \"W\", \"W\"],\n",
    "        [\"W\", \"X\", \"W\", \"W\"],\n",
    "        [\"W\", \"X\", \"W\", \"W\"],\n",
    "        [\"W\", \"X\", \"X\", \"W\"],\n",
    "        [\"W\", \"W\", \"X\", \"W\"],\n",
    "        [\"W\", \"W\", \"G\", \"W\"]])\n",
    "np.reshape(maze, (4,6))[0][1]"
   ]
  },
  {
   "cell_type": "code",
   "execution_count": 8,
   "metadata": {},
   "outputs": [
    {
     "ename": "",
     "evalue": "",
     "output_type": "error",
     "traceback": [
      "\u001b[1;31mThe Kernel crashed while executing code in the the current cell or a previous cell. Please review the code in the cell(s) to identify a possible cause of the failure. Click <a href='https://aka.ms/vscodeJupyterKernelCrash'>here</a> for more info. View Jupyter <a href='command:jupyter.viewOutput'>log</a> for further details."
     ]
    }
   ],
   "source": [
    "import numpy as np\n",
    "import random\n",
    "\n",
    "def generate_maze(n, m):\n",
    "    maze = np.ones((n, m), dtype=int)  # Initialize the maze with walls\n",
    "    stack = [(0, 0)]  # Starting point\n",
    "\n",
    "    while stack:\n",
    "        current = stack[-1]\n",
    "        x, y = current\n",
    "\n",
    "        neighbors = []\n",
    "\n",
    "        for nx, ny in [(x + 2, y), (x - 2, y), (x, y + 2), (x, y - 2)]:\n",
    "            if 0 <= nx < n and 0 <= ny < m and maze[nx, ny] == 1:\n",
    "                neighbors.append((nx, ny))\n",
    "\n",
    "        if neighbors:\n",
    "            next_cell = random.choice(neighbors)\n",
    "            nx, ny = next_cell\n",
    "            maze[(x + nx) // 2, (y + ny) // 2] = 0  # Carve a path between the current and next cell\n",
    "            stack.append(next_cell)\n",
    "        else:\n",
    "            stack.pop()\n",
    "\n",
    "    return maze\n",
    "\n",
    "# Example usage\n",
    "n = 5\n",
    "m = 5\n",
    "generated_maze = generate_maze(n, m)\n",
    "print(generated_maze)"
   ]
  }
 ],
 "metadata": {
  "kernelspec": {
   "display_name": ".venv",
   "language": "python",
   "name": "python3"
  },
  "language_info": {
   "codemirror_mode": {
    "name": "ipython",
    "version": 3
   },
   "file_extension": ".py",
   "mimetype": "text/x-python",
   "name": "python",
   "nbconvert_exporter": "python",
   "pygments_lexer": "ipython3",
   "version": "3.9.0"
  }
 },
 "nbformat": 4,
 "nbformat_minor": 2
}
