{
 "cells": [
  {
   "cell_type": "code",
   "execution_count": 1,
   "metadata": {},
   "outputs": [],
   "source": [
    "import numpy as np\n",
    "import cv2\n",
    "from src.commons import render_maze, create_maze"
   ]
  },
  {
   "cell_type": "code",
   "execution_count": 31,
   "metadata": {},
   "outputs": [],
   "source": [
    "class Hand_on_wall_rule():\n",
    "    \n",
    "    def __init__(self, maze, preview=False):\n",
    "        self.maze = maze\n",
    "        self.preview = preview\n",
    "\n",
    "    # Solve the maze\n",
    "    def solve(self):\n",
    "        # Remember agent movement\n",
    "        agent=np.array([0,0])\n",
    "        stack=[agent.copy()]\n",
    "        # 0=up, 1=right, 2=down, 3=left\n",
    "        moves=np.array([[-1,0],[0,1],[1,0],[0,-1]])\n",
    "        # Move down will be the next move\n",
    "        next_move=2\n",
    "        self.stuck_count=0\n",
    "\n",
    "        while(self.maze[tuple(agent)]!='G'):\n",
    "            # If player goes into a wall select next move\n",
    "            while not self.is_valid(agent, moves[next_move]):\n",
    "                self.stuck_count+=1\n",
    "                next_move=(next_move+1)%4\n",
    "\n",
    "            self.stuck_count=0\n",
    "            \n",
    "            self.maze[tuple(agent)]='*'\n",
    "\n",
    "            agent+=moves[next_move]\n",
    "            print(agent)\n",
    "            stack.append(agent.copy())\n",
    "\n",
    "            \n",
    "            \n",
    "            # Check render conditions\n",
    "            if self.preview:\n",
    "                self.render(agent)\n",
    "        \n",
    "        return stack\n",
    "\n",
    "    def is_valid(self, agent, move):\n",
    "\n",
    "        if self.maze[tuple(agent + move)] == 'W':\n",
    "            return False\n",
    "        elif self.stuck_count >= 3:\n",
    "            return True \n",
    "        elif self.maze[tuple(agent + move)] == '0':\n",
    "            return True\n",
    "        else:\n",
    "            return False\n",
    "\n",
    "    def render(self, agent):\n",
    "        maze_tmp=self.maze.copy()\n",
    "        maze_tmp[tuple(agent)]='P'\n",
    "        cv2.imshow(\"Game\",render_maze(maze_tmp))\n",
    "        cv2.waitKey(0)"
   ]
  },
  {
   "cell_type": "code",
   "execution_count": 33,
   "metadata": {},
   "outputs": [
    {
     "name": "stdout",
     "output_type": "stream",
     "text": [
      "[1 0]\n",
      "[2 0]\n",
      "[2 1]\n",
      "[2 2]\n",
      "[3 2]\n",
      "[4 2]\n",
      "[4 1]\n",
      "[4 0]\n",
      "[4 1]\n",
      "[4 2]\n",
      "[4 3]\n",
      "[4 4]\n"
     ]
    }
   ],
   "source": [
    "maze=create_maze(6,6)\n",
    "maze[-2,-2]=\"G\"\n",
    "path=Hand_on_wall_rule(maze, preview=True).solve()"
   ]
  },
  {
   "cell_type": "code",
   "execution_count": 3,
   "metadata": {},
   "outputs": [
    {
     "data": {
      "text/plain": [
       "array([['W', '*', 'W', 'W'],\n",
       "       ['W', '*', 'W', 'W'],\n",
       "       ['W', '*', 'W', 'W'],\n",
       "       ['W', '*', '*', 'W'],\n",
       "       ['W', 'W', '*', 'W'],\n",
       "       ['W', 'W', 'G', 'W']], dtype='<U1')"
      ]
     },
     "execution_count": 3,
     "metadata": {},
     "output_type": "execute_result"
    }
   ],
   "source": [
    "maze=np.array([  [\"W\",\"X\", \"W\", \"W\"],\n",
    "        [\"W\", \"X\", \"W\", \"W\"],\n",
    "        [\"W\", \"X\", \"W\", \"W\"],\n",
    "        [\"W\", \"X\", \"X\", \"W\"],\n",
    "        [\"W\", \"W\", \"X\", \"W\"],\n",
    "        [\"W\", \"W\", \"G\", \"W\"]])\n",
    "Hand_on_wall_rule(maze, preview=True).solve()"
   ]
  },
  {
   "cell_type": "code",
   "execution_count": 17,
   "metadata": {},
   "outputs": [
    {
     "data": {
      "text/plain": [
       "'X'"
      ]
     },
     "execution_count": 17,
     "metadata": {},
     "output_type": "execute_result"
    }
   ],
   "source": [
    "maze=np.array([  [\"W\",\"X\", \"W\", \"W\"],\n",
    "        [\"W\", \"X\", \"W\", \"W\"],\n",
    "        [\"W\", \"X\", \"W\", \"W\"],\n",
    "        [\"W\", \"X\", \"X\", \"W\"],\n",
    "        [\"W\", \"W\", \"X\", \"W\"],\n",
    "        [\"W\", \"W\", \"G\", \"W\"]])\n",
    "np.reshape(maze, (4,6))[0][1]"
   ]
  },
  {
   "cell_type": "code",
   "execution_count": 8,
   "metadata": {},
   "outputs": [
    {
     "ename": "",
     "evalue": "",
     "output_type": "error",
     "traceback": [
      "\u001b[1;31mThe Kernel crashed while executing code in the the current cell or a previous cell. Please review the code in the cell(s) to identify a possible cause of the failure. Click <a href='https://aka.ms/vscodeJupyterKernelCrash'>here</a> for more info. View Jupyter <a href='command:jupyter.viewOutput'>log</a> for further details."
     ]
    }
   ],
   "source": [
    "g3"
   ]
  }
 ],
 "metadata": {
  "kernelspec": {
   "display_name": ".venv",
   "language": "python",
   "name": "python3"
  },
  "language_info": {
   "codemirror_mode": {
    "name": "ipython",
    "version": 3
   },
   "file_extension": ".py",
   "mimetype": "text/x-python",
   "name": "python",
   "nbconvert_exporter": "python",
   "pygments_lexer": "ipython3",
   "version": "3.9.0"
  }
 },
 "nbformat": 4,
 "nbformat_minor": 2
}
